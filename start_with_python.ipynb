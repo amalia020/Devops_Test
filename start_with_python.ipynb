{
  "nbformat": 4,
  "nbformat_minor": 0,
  "metadata": {
    "colab": {
      "provenance": [],
      "authorship_tag": "ABX9TyPsjilhtT3VSSVkFaZygfvP",
      "include_colab_link": true
    },
    "kernelspec": {
      "name": "python3",
      "display_name": "Python 3"
    },
    "language_info": {
      "name": "python"
    },
    "accelerator": "GPU",
    "gpuClass": "standard"
  },
  "cells": [
    {
      "cell_type": "markdown",
      "metadata": {
        "id": "view-in-github",
        "colab_type": "text"
      },
      "source": [
        "<a href=\"https://colab.research.google.com/github/amalia020/Devops_Test/blob/main/start_with_python.ipynb\" target=\"_parent\"><img src=\"https://colab.research.google.com/assets/colab-badge.svg\" alt=\"Open In Colab\"/></a>"
      ]
    },
    {
      "cell_type": "markdown",
      "source": [
        "### Introduction to Python\n",
        "\n"
      ],
      "metadata": {
        "id": "b3uwdrcGcRKl"
      }
    },
    {
      "cell_type": "markdown",
      "source": [
        "#### Statements in Python"
      ],
      "metadata": {
        "id": "lWEUDIFVcg3J"
      }
    },
    {
      "cell_type": "code",
      "execution_count": null,
      "metadata": {
        "id": "1LXPS7W_db9B"
      },
      "outputs": [],
      "source": [
        "#"
      ]
    },
    {
      "cell_type": "code",
      "source": [
        "print('hello world')"
      ],
      "metadata": {
        "id": "0zIIy-JWcNIP",
        "colab": {
          "base_uri": "https://localhost:8080/"
        },
        "outputId": "3419a112-05c6-496f-938f-57c532279d41"
      },
      "execution_count": 1,
      "outputs": [
        {
          "output_type": "stream",
          "name": "stdout",
          "text": [
            "hello world\n"
          ]
        }
      ]
    },
    {
      "cell_type": "code",
      "source": [
        "name = 'Amalia'\n",
        "print(f'hello {name}')"
      ],
      "metadata": {
        "colab": {
          "base_uri": "https://localhost:8080/"
        },
        "id": "FFbJfobOc6kd",
        "outputId": "06a72207-488a-45a9-e1b6-211e535d340c"
      },
      "execution_count": 2,
      "outputs": [
        {
          "output_type": "stream",
          "name": "stdout",
          "text": [
            "hello Amalia\n"
          ]
        }
      ]
    },
    {
      "cell_type": "markdown",
      "source": [
        "#### Datastructures: Lists and Dictionaries"
      ],
      "metadata": {
        "id": "OScAyg53dA4A"
      }
    },
    {
      "cell_type": "markdown",
      "source": [
        "##### List"
      ],
      "metadata": {
        "id": "8RKTmHhgdkDH"
      }
    },
    {
      "cell_type": "code",
      "source": [
        "fruit = ['apple', 'pear', 'banana']\n"
      ],
      "metadata": {
        "id": "iVXXip1kdG-h"
      },
      "execution_count": 3,
      "outputs": []
    },
    {
      "cell_type": "code",
      "source": [
        "type(fruit)"
      ],
      "metadata": {
        "colab": {
          "base_uri": "https://localhost:8080/"
        },
        "id": "vlWLtux0dQAm",
        "outputId": "20607f6f-dfbd-4f6f-ba25-a6970bff44ea"
      },
      "execution_count": 4,
      "outputs": [
        {
          "output_type": "execute_result",
          "data": {
            "text/plain": [
              "list"
            ]
          },
          "metadata": {},
          "execution_count": 4
        }
      ]
    },
    {
      "cell_type": "code",
      "source": [
        "for my_fruit in fruit:\n",
        "  print(f\"This is my favorite fruit: {my_fruit}\")"
      ],
      "metadata": {
        "colab": {
          "base_uri": "https://localhost:8080/"
        },
        "id": "zX6WIAXzdSdI",
        "outputId": "6fcbc844-d72f-421b-fe0b-ebe1a1a1a948"
      },
      "execution_count": 5,
      "outputs": [
        {
          "output_type": "stream",
          "name": "stdout",
          "text": [
            "This is my favorite fruit: apple\n",
            "This is my favorite fruit: pear\n",
            "This is my favorite fruit: banana\n"
          ]
        }
      ]
    },
    {
      "cell_type": "markdown",
      "source": [
        "##### Dictionary"
      ],
      "metadata": {
        "id": "kLnmFwh-dnI0"
      }
    },
    {
      "cell_type": "code",
      "source": [
        "meal = {'breakfast': 'protein shake', 'lunch': 'salad', 'dinner': 'rice and beans'}"
      ],
      "metadata": {
        "id": "7oxo_7RvdSpX"
      },
      "execution_count": 6,
      "outputs": []
    },
    {
      "cell_type": "code",
      "source": [
        "meal.keys()"
      ],
      "metadata": {
        "colab": {
          "base_uri": "https://localhost:8080/"
        },
        "id": "jvKofxYpd04z",
        "outputId": "82d335b4-970f-4567-bc41-01a66a0c1e4d"
      },
      "execution_count": 7,
      "outputs": [
        {
          "output_type": "execute_result",
          "data": {
            "text/plain": [
              "dict_keys(['breakfast', 'lunch', 'dinner'])"
            ]
          },
          "metadata": {},
          "execution_count": 7
        }
      ]
    },
    {
      "cell_type": "code",
      "source": [
        "meal.values()"
      ],
      "metadata": {
        "colab": {
          "base_uri": "https://localhost:8080/"
        },
        "id": "ZDeiujFGd80S",
        "outputId": "18e241d1-094b-46bb-c745-204d5112c49b"
      },
      "execution_count": 8,
      "outputs": [
        {
          "output_type": "execute_result",
          "data": {
            "text/plain": [
              "dict_values(['protein shake', 'salad', 'steak'])"
            ]
          },
          "metadata": {},
          "execution_count": 8
        }
      ]
    },
    {
      "cell_type": "code",
      "source": [
        "for name, item in meal.items():\n",
        "  print(f'This meal {name} is when I like to eat {item}')"
      ],
      "metadata": {
        "colab": {
          "base_uri": "https://localhost:8080/"
        },
        "id": "PfqwH4xteARr",
        "outputId": "dfc134f3-bc6f-40e7-ed85-9c0b4c540160"
      },
      "execution_count": 9,
      "outputs": [
        {
          "output_type": "stream",
          "name": "stdout",
          "text": [
            "This meal breakfast is when I like to eat protein shake\n",
            "This meal lunch is when I like to eat salad\n",
            "This meal dinner is when I like to eat steak\n"
          ]
        }
      ]
    }
  ]
}